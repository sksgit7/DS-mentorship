{
  "nbformat": 4,
  "nbformat_minor": 0,
  "metadata": {
    "colab": {
      "name": "heart_disease_pred.ipynb",
      "provenance": [],
      "collapsed_sections": [
        "h3dHmCZ90cAF",
        "lX5VuxlT3FWe",
        "ap49WtyA9oOJ",
        "zwqw-t8Pdaiy",
        "q_4UoyWdeY7G",
        "tF-yiBfOl1i_",
        "HIcJa8eVuUTL"
      ]
    },
    "kernelspec": {
      "name": "python3",
      "display_name": "Python 3"
    }
  },
  "cells": [
    {
      "cell_type": "markdown",
      "metadata": {
        "id": "5pBF5WHGv6hT"
      },
      "source": [
        "# Prediction of heart disease"
      ]
    },
    {
      "cell_type": "markdown",
      "metadata": {
        "id": "h3dHmCZ90cAF"
      },
      "source": [
        "## Problem statement\r\n",
        "Predict if a aptient have heart disease based on his/her clinical parameters.\r\n",
        "\r\n",
        "## DATA\r\n",
        "The dataset can be found here: https://www.kaggle.com/ronitf/heart-disease-uci\r\n",
        "\r\n"
      ]
    },
    {
      "cell_type": "markdown",
      "metadata": {
        "id": "svg5nMZPZ5H_"
      },
      "source": [
        "## Features\r\n",
        "1. age - age in years<br>\r\n",
        "2. sex - (1 = male; 0 = female)<br>\r\n",
        "\r\n",
        "3. cp - chest pain type\r\n",
        "- 0: Typical angina: chest pain related decrease blood supply to the heart\r\n",
        "- 1: Atypical angina: chest pain not related to heart\r\n",
        "- 2: Non-anginal pain: typically esophageal spasms (non heart related)\r\n",
        "- 3: Asymptomatic: chest pain not showing signs of disease\r\n",
        "\r\n",
        "\r\n",
        "4. trestbps - resting blood pressure (in mm Hg on admission to the hospital)\r\n",
        "anything above 130-140 is typically cause for concern\r\n",
        "\r\n",
        "5. chol - serum cholestoral in mg/dl\r\n",
        "serum = LDL + HDL + .2 * triglycerides\r\n",
        "above 200 is cause for concern\r\n",
        "\r\n",
        "6. fbs - (fasting blood sugar > 120 mg/dl) (1 = true; 0 = false)\r\n",
        "'>126' mg/dL signals diabetes\r\n",
        "\r\n",
        "7. restecg - resting electrocardiographic results\r\n",
        "- 0: Nothing to note\r\n",
        "- 1: ST-T Wave abnormality\r\n",
        "can range from mild symptoms to severe problems\r\n",
        "signals non-normal heart beat\r\n",
        "- 2: Possible or definite left ventricular hypertrophy\r\n",
        "Enlarged heart's main pumping chamber\r\n",
        "\r\n",
        "8. thalach - maximum heart rate achieved\r\n",
        "\r\n",
        "9. exang - exercise induced angina (1 = yes; 0 = no)\r\n",
        "\r\n",
        "10. oldpeak - ST depression induced by exercise relative to rest\r\n",
        "looks at stress of heart during excercise\r\n",
        "unhealthy heart will stress more\r\n",
        "\r\n",
        "11. slope - the slope of the peak exercise ST segment\r\n",
        "- 0: Upsloping: better heart rate with excercise (uncommon)\r\n",
        "- 1: Flatsloping: minimal change (typical healthy heart)\r\n",
        "- 2: Downslopins: signs of unhealthy heart\r\n",
        "\r\n",
        "12. ca - number of major vessels (0-3) colored by flourosopy\r\n",
        "colored vessel means the doctor can see the blood passing through\r\n",
        "the more blood movement the better (no clots)\r\n",
        "\r\n",
        "13. thal - thalium stress result\r\n",
        "1,3: normal\r\n",
        "6: fixed defect: used to be defect but ok now\r\n",
        "7: reversable defect: no proper blood movement when excercising\r\n",
        "\r\n",
        "14. target - have disease or not (1=yes, 0=no) (= the predicted attribute)\r\n",
        "Note: No personal identifiable information (PPI) can be found in the dataset."
      ]
    },
    {
      "cell_type": "code",
      "metadata": {
        "id": "zIlm6CKQmuOv",
        "colab": {
          "base_uri": "https://localhost:8080/"
        },
        "outputId": "2436e5ab-b4a2-4378-8d9f-6c68d5bf6273"
      },
      "source": [
        "from google.colab import drive\n",
        "drive.mount('/content/gdrive')"
      ],
      "execution_count": 1,
      "outputs": [
        {
          "output_type": "stream",
          "text": [
            "Mounted at /content/gdrive\n"
          ],
          "name": "stdout"
        }
      ]
    },
    {
      "cell_type": "code",
      "metadata": {
        "colab": {
          "base_uri": "https://localhost:8080/"
        },
        "id": "cz427ChWzCwt",
        "outputId": "a4f3d809-6c63-4813-9bc7-83792ad88881"
      },
      "source": [
        "cd '/content/gdrive/My Drive/Colab Notebooks/DS projects'"
      ],
      "execution_count": 2,
      "outputs": [
        {
          "output_type": "stream",
          "text": [
            "/content/gdrive/My Drive/Colab Notebooks/DS projects\n"
          ],
          "name": "stdout"
        }
      ]
    },
    {
      "cell_type": "code",
      "metadata": {
        "id": "VGzP7sFE3IaE"
      },
      "source": [
        "# IMPORT packages, libraries\r\n",
        "import numpy as np\r\n",
        "import pandas as pd\r\n",
        "import matplotlib.pyplot as plt\r\n",
        "import seaborn as sns\r\n",
        "\r\n",
        "# Data split\r\n",
        "from sklearn.model_selection import train_test_split\r\n",
        "\r\n",
        "# ML models\r\n",
        "from sklearn.linear_model import LogisticRegression\r\n",
        "from sklearn.neighbors import KNeighborsClassifier\r\n",
        "from sklearn.ensemble import RandomForestClassifier\r\n",
        "from sklearn.svm import LinearSVC\r\n",
        "\r\n",
        "# cross validation\r\n",
        "from sklearn.model_selection import GridSearchCV, RandomizedSearchCV, cross_val_score\r\n",
        "\r\n",
        "# Evaluation metrics\r\n",
        "from sklearn.metrics import confusion_matrix, classification_report, accuracy_score,\\\r\n",
        "  precision_score, recall_score, f1_score, plot_roc_curve"
      ],
      "execution_count": 3,
      "outputs": []
    },
    {
      "cell_type": "code",
      "metadata": {
        "id": "TKeLaWs8oNfp"
      },
      "source": [
        "import warnings\r\n",
        "warnings.filterwarnings('ignore')"
      ],
      "execution_count": 4,
      "outputs": []
    },
    {
      "cell_type": "code",
      "metadata": {
        "id": "rf0Ib729fAEe",
        "colab": {
          "base_uri": "https://localhost:8080/",
          "height": 206
        },
        "outputId": "3dc9aaaf-bef6-479f-8f56-2c181cfa64b4"
      },
      "source": [
        "# Load dataset\n",
        "df=pd.read_csv('heart-disease.csv')\n",
        "df.head()"
      ],
      "execution_count": 5,
      "outputs": [
        {
          "output_type": "execute_result",
          "data": {
            "text/html": [
              "<div>\n",
              "<style scoped>\n",
              "    .dataframe tbody tr th:only-of-type {\n",
              "        vertical-align: middle;\n",
              "    }\n",
              "\n",
              "    .dataframe tbody tr th {\n",
              "        vertical-align: top;\n",
              "    }\n",
              "\n",
              "    .dataframe thead th {\n",
              "        text-align: right;\n",
              "    }\n",
              "</style>\n",
              "<table border=\"1\" class=\"dataframe\">\n",
              "  <thead>\n",
              "    <tr style=\"text-align: right;\">\n",
              "      <th></th>\n",
              "      <th>age</th>\n",
              "      <th>sex</th>\n",
              "      <th>cp</th>\n",
              "      <th>trestbps</th>\n",
              "      <th>chol</th>\n",
              "      <th>fbs</th>\n",
              "      <th>restecg</th>\n",
              "      <th>thalach</th>\n",
              "      <th>exang</th>\n",
              "      <th>oldpeak</th>\n",
              "      <th>slope</th>\n",
              "      <th>ca</th>\n",
              "      <th>thal</th>\n",
              "      <th>target</th>\n",
              "    </tr>\n",
              "  </thead>\n",
              "  <tbody>\n",
              "    <tr>\n",
              "      <th>0</th>\n",
              "      <td>63</td>\n",
              "      <td>1</td>\n",
              "      <td>3</td>\n",
              "      <td>145</td>\n",
              "      <td>233</td>\n",
              "      <td>1</td>\n",
              "      <td>0</td>\n",
              "      <td>150</td>\n",
              "      <td>0</td>\n",
              "      <td>2.3</td>\n",
              "      <td>0</td>\n",
              "      <td>0</td>\n",
              "      <td>1</td>\n",
              "      <td>1</td>\n",
              "    </tr>\n",
              "    <tr>\n",
              "      <th>1</th>\n",
              "      <td>37</td>\n",
              "      <td>1</td>\n",
              "      <td>2</td>\n",
              "      <td>130</td>\n",
              "      <td>250</td>\n",
              "      <td>0</td>\n",
              "      <td>1</td>\n",
              "      <td>187</td>\n",
              "      <td>0</td>\n",
              "      <td>3.5</td>\n",
              "      <td>0</td>\n",
              "      <td>0</td>\n",
              "      <td>2</td>\n",
              "      <td>1</td>\n",
              "    </tr>\n",
              "    <tr>\n",
              "      <th>2</th>\n",
              "      <td>41</td>\n",
              "      <td>0</td>\n",
              "      <td>1</td>\n",
              "      <td>130</td>\n",
              "      <td>204</td>\n",
              "      <td>0</td>\n",
              "      <td>0</td>\n",
              "      <td>172</td>\n",
              "      <td>0</td>\n",
              "      <td>1.4</td>\n",
              "      <td>2</td>\n",
              "      <td>0</td>\n",
              "      <td>2</td>\n",
              "      <td>1</td>\n",
              "    </tr>\n",
              "    <tr>\n",
              "      <th>3</th>\n",
              "      <td>56</td>\n",
              "      <td>1</td>\n",
              "      <td>1</td>\n",
              "      <td>120</td>\n",
              "      <td>236</td>\n",
              "      <td>0</td>\n",
              "      <td>1</td>\n",
              "      <td>178</td>\n",
              "      <td>0</td>\n",
              "      <td>0.8</td>\n",
              "      <td>2</td>\n",
              "      <td>0</td>\n",
              "      <td>2</td>\n",
              "      <td>1</td>\n",
              "    </tr>\n",
              "    <tr>\n",
              "      <th>4</th>\n",
              "      <td>57</td>\n",
              "      <td>0</td>\n",
              "      <td>0</td>\n",
              "      <td>120</td>\n",
              "      <td>354</td>\n",
              "      <td>0</td>\n",
              "      <td>1</td>\n",
              "      <td>163</td>\n",
              "      <td>1</td>\n",
              "      <td>0.6</td>\n",
              "      <td>2</td>\n",
              "      <td>0</td>\n",
              "      <td>2</td>\n",
              "      <td>1</td>\n",
              "    </tr>\n",
              "  </tbody>\n",
              "</table>\n",
              "</div>"
            ],
            "text/plain": [
              "   age  sex  cp  trestbps  chol  fbs  ...  exang  oldpeak  slope  ca  thal  target\n",
              "0   63    1   3       145   233    1  ...      0      2.3      0   0     1       1\n",
              "1   37    1   2       130   250    0  ...      0      3.5      0   0     2       1\n",
              "2   41    0   1       130   204    0  ...      0      1.4      2   0     2       1\n",
              "3   56    1   1       120   236    0  ...      0      0.8      2   0     2       1\n",
              "4   57    0   0       120   354    0  ...      1      0.6      2   0     2       1\n",
              "\n",
              "[5 rows x 14 columns]"
            ]
          },
          "metadata": {
            "tags": []
          },
          "execution_count": 5
        }
      ]
    },
    {
      "cell_type": "markdown",
      "metadata": {
        "id": "lX5VuxlT3FWe"
      },
      "source": [
        "## EDA"
      ]
    },
    {
      "cell_type": "code",
      "metadata": {
        "colab": {
          "base_uri": "https://localhost:8080/"
        },
        "id": "9-wZjdT_-HQs",
        "outputId": "96ce7537-16fd-428b-f501-8975c2a61f8e"
      },
      "source": [
        "# Info\r\n",
        "df.info()"
      ],
      "execution_count": null,
      "outputs": [
        {
          "output_type": "stream",
          "text": [
            "<class 'pandas.core.frame.DataFrame'>\n",
            "RangeIndex: 303 entries, 0 to 302\n",
            "Data columns (total 14 columns):\n",
            " #   Column    Non-Null Count  Dtype  \n",
            "---  ------    --------------  -----  \n",
            " 0   age       303 non-null    int64  \n",
            " 1   sex       303 non-null    int64  \n",
            " 2   cp        303 non-null    int64  \n",
            " 3   trestbps  303 non-null    int64  \n",
            " 4   chol      303 non-null    int64  \n",
            " 5   fbs       303 non-null    int64  \n",
            " 6   restecg   303 non-null    int64  \n",
            " 7   thalach   303 non-null    int64  \n",
            " 8   exang     303 non-null    int64  \n",
            " 9   oldpeak   303 non-null    float64\n",
            " 10  slope     303 non-null    int64  \n",
            " 11  ca        303 non-null    int64  \n",
            " 12  thal      303 non-null    int64  \n",
            " 13  target    303 non-null    int64  \n",
            "dtypes: float64(1), int64(13)\n",
            "memory usage: 33.3 KB\n"
          ],
          "name": "stdout"
        }
      ]
    },
    {
      "cell_type": "markdown",
      "metadata": {
        "id": "zhADeIik-Rgy"
      },
      "source": [
        "All the features are of numerical type, so we need not go for any encoding."
      ]
    },
    {
      "cell_type": "code",
      "metadata": {
        "colab": {
          "base_uri": "https://localhost:8080/",
          "height": 488
        },
        "id": "4POYFiV1-eub",
        "outputId": "5fb0b576-68e8-4e64-a472-49967ff1bcd5"
      },
      "source": [
        "# Stats\r\n",
        "df.describe().T"
      ],
      "execution_count": null,
      "outputs": [
        {
          "output_type": "execute_result",
          "data": {
            "text/html": [
              "<div>\n",
              "<style scoped>\n",
              "    .dataframe tbody tr th:only-of-type {\n",
              "        vertical-align: middle;\n",
              "    }\n",
              "\n",
              "    .dataframe tbody tr th {\n",
              "        vertical-align: top;\n",
              "    }\n",
              "\n",
              "    .dataframe thead th {\n",
              "        text-align: right;\n",
              "    }\n",
              "</style>\n",
              "<table border=\"1\" class=\"dataframe\">\n",
              "  <thead>\n",
              "    <tr style=\"text-align: right;\">\n",
              "      <th></th>\n",
              "      <th>count</th>\n",
              "      <th>mean</th>\n",
              "      <th>std</th>\n",
              "      <th>min</th>\n",
              "      <th>25%</th>\n",
              "      <th>50%</th>\n",
              "      <th>75%</th>\n",
              "      <th>max</th>\n",
              "    </tr>\n",
              "  </thead>\n",
              "  <tbody>\n",
              "    <tr>\n",
              "      <th>age</th>\n",
              "      <td>303.0</td>\n",
              "      <td>54.366337</td>\n",
              "      <td>9.082101</td>\n",
              "      <td>29.0</td>\n",
              "      <td>47.5</td>\n",
              "      <td>55.0</td>\n",
              "      <td>61.0</td>\n",
              "      <td>77.0</td>\n",
              "    </tr>\n",
              "    <tr>\n",
              "      <th>sex</th>\n",
              "      <td>303.0</td>\n",
              "      <td>0.683168</td>\n",
              "      <td>0.466011</td>\n",
              "      <td>0.0</td>\n",
              "      <td>0.0</td>\n",
              "      <td>1.0</td>\n",
              "      <td>1.0</td>\n",
              "      <td>1.0</td>\n",
              "    </tr>\n",
              "    <tr>\n",
              "      <th>cp</th>\n",
              "      <td>303.0</td>\n",
              "      <td>0.966997</td>\n",
              "      <td>1.032052</td>\n",
              "      <td>0.0</td>\n",
              "      <td>0.0</td>\n",
              "      <td>1.0</td>\n",
              "      <td>2.0</td>\n",
              "      <td>3.0</td>\n",
              "    </tr>\n",
              "    <tr>\n",
              "      <th>trestbps</th>\n",
              "      <td>303.0</td>\n",
              "      <td>131.623762</td>\n",
              "      <td>17.538143</td>\n",
              "      <td>94.0</td>\n",
              "      <td>120.0</td>\n",
              "      <td>130.0</td>\n",
              "      <td>140.0</td>\n",
              "      <td>200.0</td>\n",
              "    </tr>\n",
              "    <tr>\n",
              "      <th>chol</th>\n",
              "      <td>303.0</td>\n",
              "      <td>246.264026</td>\n",
              "      <td>51.830751</td>\n",
              "      <td>126.0</td>\n",
              "      <td>211.0</td>\n",
              "      <td>240.0</td>\n",
              "      <td>274.5</td>\n",
              "      <td>564.0</td>\n",
              "    </tr>\n",
              "    <tr>\n",
              "      <th>fbs</th>\n",
              "      <td>303.0</td>\n",
              "      <td>0.148515</td>\n",
              "      <td>0.356198</td>\n",
              "      <td>0.0</td>\n",
              "      <td>0.0</td>\n",
              "      <td>0.0</td>\n",
              "      <td>0.0</td>\n",
              "      <td>1.0</td>\n",
              "    </tr>\n",
              "    <tr>\n",
              "      <th>restecg</th>\n",
              "      <td>303.0</td>\n",
              "      <td>0.528053</td>\n",
              "      <td>0.525860</td>\n",
              "      <td>0.0</td>\n",
              "      <td>0.0</td>\n",
              "      <td>1.0</td>\n",
              "      <td>1.0</td>\n",
              "      <td>2.0</td>\n",
              "    </tr>\n",
              "    <tr>\n",
              "      <th>thalach</th>\n",
              "      <td>303.0</td>\n",
              "      <td>149.646865</td>\n",
              "      <td>22.905161</td>\n",
              "      <td>71.0</td>\n",
              "      <td>133.5</td>\n",
              "      <td>153.0</td>\n",
              "      <td>166.0</td>\n",
              "      <td>202.0</td>\n",
              "    </tr>\n",
              "    <tr>\n",
              "      <th>exang</th>\n",
              "      <td>303.0</td>\n",
              "      <td>0.326733</td>\n",
              "      <td>0.469794</td>\n",
              "      <td>0.0</td>\n",
              "      <td>0.0</td>\n",
              "      <td>0.0</td>\n",
              "      <td>1.0</td>\n",
              "      <td>1.0</td>\n",
              "    </tr>\n",
              "    <tr>\n",
              "      <th>oldpeak</th>\n",
              "      <td>303.0</td>\n",
              "      <td>1.039604</td>\n",
              "      <td>1.161075</td>\n",
              "      <td>0.0</td>\n",
              "      <td>0.0</td>\n",
              "      <td>0.8</td>\n",
              "      <td>1.6</td>\n",
              "      <td>6.2</td>\n",
              "    </tr>\n",
              "    <tr>\n",
              "      <th>slope</th>\n",
              "      <td>303.0</td>\n",
              "      <td>1.399340</td>\n",
              "      <td>0.616226</td>\n",
              "      <td>0.0</td>\n",
              "      <td>1.0</td>\n",
              "      <td>1.0</td>\n",
              "      <td>2.0</td>\n",
              "      <td>2.0</td>\n",
              "    </tr>\n",
              "    <tr>\n",
              "      <th>ca</th>\n",
              "      <td>303.0</td>\n",
              "      <td>0.729373</td>\n",
              "      <td>1.022606</td>\n",
              "      <td>0.0</td>\n",
              "      <td>0.0</td>\n",
              "      <td>0.0</td>\n",
              "      <td>1.0</td>\n",
              "      <td>4.0</td>\n",
              "    </tr>\n",
              "    <tr>\n",
              "      <th>thal</th>\n",
              "      <td>303.0</td>\n",
              "      <td>2.313531</td>\n",
              "      <td>0.612277</td>\n",
              "      <td>0.0</td>\n",
              "      <td>2.0</td>\n",
              "      <td>2.0</td>\n",
              "      <td>3.0</td>\n",
              "      <td>3.0</td>\n",
              "    </tr>\n",
              "    <tr>\n",
              "      <th>target</th>\n",
              "      <td>303.0</td>\n",
              "      <td>0.544554</td>\n",
              "      <td>0.498835</td>\n",
              "      <td>0.0</td>\n",
              "      <td>0.0</td>\n",
              "      <td>1.0</td>\n",
              "      <td>1.0</td>\n",
              "      <td>1.0</td>\n",
              "    </tr>\n",
              "  </tbody>\n",
              "</table>\n",
              "</div>"
            ],
            "text/plain": [
              "          count        mean        std    min    25%    50%    75%    max\n",
              "age       303.0   54.366337   9.082101   29.0   47.5   55.0   61.0   77.0\n",
              "sex       303.0    0.683168   0.466011    0.0    0.0    1.0    1.0    1.0\n",
              "cp        303.0    0.966997   1.032052    0.0    0.0    1.0    2.0    3.0\n",
              "trestbps  303.0  131.623762  17.538143   94.0  120.0  130.0  140.0  200.0\n",
              "chol      303.0  246.264026  51.830751  126.0  211.0  240.0  274.5  564.0\n",
              "fbs       303.0    0.148515   0.356198    0.0    0.0    0.0    0.0    1.0\n",
              "restecg   303.0    0.528053   0.525860    0.0    0.0    1.0    1.0    2.0\n",
              "thalach   303.0  149.646865  22.905161   71.0  133.5  153.0  166.0  202.0\n",
              "exang     303.0    0.326733   0.469794    0.0    0.0    0.0    1.0    1.0\n",
              "oldpeak   303.0    1.039604   1.161075    0.0    0.0    0.8    1.6    6.2\n",
              "slope     303.0    1.399340   0.616226    0.0    1.0    1.0    2.0    2.0\n",
              "ca        303.0    0.729373   1.022606    0.0    0.0    0.0    1.0    4.0\n",
              "thal      303.0    2.313531   0.612277    0.0    2.0    2.0    3.0    3.0\n",
              "target    303.0    0.544554   0.498835    0.0    0.0    1.0    1.0    1.0"
            ]
          },
          "metadata": {
            "tags": []
          },
          "execution_count": 12
        }
      ]
    },
    {
      "cell_type": "markdown",
      "metadata": {
        "id": "5_QEONTm-0U0"
      },
      "source": [
        "We can see here the stats for different features.\r\n",
        "\r\n",
        "Few of them have values ranging in hundreds and others have really low values, so we might need to **scale down our features**.\r\n",
        "\r\n",
        "We can also see that all features have 330 records, i.e. no missing values. But still lets have a look."
      ]
    },
    {
      "cell_type": "code",
      "metadata": {
        "colab": {
          "base_uri": "https://localhost:8080/"
        },
        "id": "YbjDd7Rl-0ys",
        "outputId": "506f199a-b0b5-4ea5-d4a3-d2c55ed8085e"
      },
      "source": [
        "# missing values\r\n",
        "df.isnull().sum()"
      ],
      "execution_count": null,
      "outputs": [
        {
          "output_type": "execute_result",
          "data": {
            "text/plain": [
              "age         0\n",
              "sex         0\n",
              "cp          0\n",
              "trestbps    0\n",
              "chol        0\n",
              "fbs         0\n",
              "restecg     0\n",
              "thalach     0\n",
              "exang       0\n",
              "oldpeak     0\n",
              "slope       0\n",
              "ca          0\n",
              "thal        0\n",
              "target      0\n",
              "dtype: int64"
            ]
          },
          "metadata": {
            "tags": []
          },
          "execution_count": 13
        }
      ]
    },
    {
      "cell_type": "code",
      "metadata": {
        "colab": {
          "base_uri": "https://localhost:8080/"
        },
        "id": "m5ZvCu3w9GJz",
        "outputId": "92ec78a4-35cf-48ae-a70a-3bf6b5479a88"
      },
      "source": [
        "# TARGET\r\n",
        "df.target.value_counts()"
      ],
      "execution_count": null,
      "outputs": [
        {
          "output_type": "execute_result",
          "data": {
            "text/plain": [
              "1    165\n",
              "0    138\n",
              "Name: target, dtype: int64"
            ]
          },
          "metadata": {
            "tags": []
          },
          "execution_count": 9
        }
      ]
    },
    {
      "cell_type": "markdown",
      "metadata": {
        "id": "VLLIADmz9gmE"
      },
      "source": [
        "This is a nearly balanced dataset."
      ]
    },
    {
      "cell_type": "markdown",
      "metadata": {
        "id": "ap49WtyA9oOJ"
      },
      "source": [
        "### Comparing \"Sex\" feature with TARGET"
      ]
    },
    {
      "cell_type": "code",
      "metadata": {
        "colab": {
          "base_uri": "https://localhost:8080/"
        },
        "id": "iCp3bfxwDBd5",
        "outputId": "626b2086-9895-40b9-cd1c-775f70cc02fe"
      },
      "source": [
        "df.sex.value_counts()"
      ],
      "execution_count": null,
      "outputs": [
        {
          "output_type": "execute_result",
          "data": {
            "text/plain": [
              "1    207\n",
              "0     96\n",
              "Name: sex, dtype: int64"
            ]
          },
          "metadata": {
            "tags": []
          },
          "execution_count": 14
        }
      ]
    },
    {
      "cell_type": "markdown",
      "metadata": {
        "id": "-gofuFbiDFTv"
      },
      "source": [
        "So we have more males (1) than females (0) in our data set."
      ]
    },
    {
      "cell_type": "code",
      "metadata": {
        "colab": {
          "base_uri": "https://localhost:8080/",
          "height": 143
        },
        "id": "6bUlG-DWDOay",
        "outputId": "51f58edc-8631-4342-e4a4-1c2815abc8db"
      },
      "source": [
        "pd.crosstab(df.sex, df.target)"
      ],
      "execution_count": null,
      "outputs": [
        {
          "output_type": "execute_result",
          "data": {
            "text/html": [
              "<div>\n",
              "<style scoped>\n",
              "    .dataframe tbody tr th:only-of-type {\n",
              "        vertical-align: middle;\n",
              "    }\n",
              "\n",
              "    .dataframe tbody tr th {\n",
              "        vertical-align: top;\n",
              "    }\n",
              "\n",
              "    .dataframe thead th {\n",
              "        text-align: right;\n",
              "    }\n",
              "</style>\n",
              "<table border=\"1\" class=\"dataframe\">\n",
              "  <thead>\n",
              "    <tr style=\"text-align: right;\">\n",
              "      <th>target</th>\n",
              "      <th>0</th>\n",
              "      <th>1</th>\n",
              "    </tr>\n",
              "    <tr>\n",
              "      <th>sex</th>\n",
              "      <th></th>\n",
              "      <th></th>\n",
              "    </tr>\n",
              "  </thead>\n",
              "  <tbody>\n",
              "    <tr>\n",
              "      <th>0</th>\n",
              "      <td>24</td>\n",
              "      <td>72</td>\n",
              "    </tr>\n",
              "    <tr>\n",
              "      <th>1</th>\n",
              "      <td>114</td>\n",
              "      <td>93</td>\n",
              "    </tr>\n",
              "  </tbody>\n",
              "</table>\n",
              "</div>"
            ],
            "text/plain": [
              "target    0   1\n",
              "sex            \n",
              "0        24  72\n",
              "1       114  93"
            ]
          },
          "metadata": {
            "tags": []
          },
          "execution_count": 15
        }
      ]
    },
    {
      "cell_type": "markdown",
      "metadata": {
        "id": "6rq6U05qDTe8"
      },
      "source": [
        "So, around 75% of females and 47% of males tend to have heart disease.\r\n",
        "\r\n",
        "Lets plot it."
      ]
    },
    {
      "cell_type": "code",
      "metadata": {
        "colab": {
          "base_uri": "https://localhost:8080/",
          "height": 276
        },
        "id": "p3Clew8wEW1B",
        "outputId": "5b71fe74-6c04-4c5e-cad4-489a31b003f5"
      },
      "source": [
        "pd.crosstab(df.sex, df.target).plot(kind='bar');\r\n",
        "plt.ylabel('Count of people');\r\n",
        "plt.legend(['Female', 'Male']);"
      ],
      "execution_count": null,
      "outputs": [
        {
          "output_type": "display_data",
          "data": {
            "image/png": "[encoded data removed]",
            "text/plain": [
              "<Figure size 432x288 with 1 Axes>"
            ]
          },
          "metadata": {
            "tags": [],
            "needs_background": "light"
          }
        }
      ]
    },
    {
      "cell_type": "markdown",
      "metadata": {
        "id": "zwqw-t8Pdaiy"
      },
      "source": [
        "### Comparing \"cp\" feature with TARGET\r\n",
        "cp - chest pain type\r\n",
        "- 0: Typical angina: chest pain related decrease blood supply to the heart\r\n",
        "- 1: Atypical angina: chest pain not related to heart\r\n",
        "- 2: Non-anginal pain: typically esophageal spasms (non heart related)\r\n",
        "- 3: Asymptomatic: chest pain not showing signs of disease"
      ]
    },
    {
      "cell_type": "code",
      "metadata": {
        "colab": {
          "base_uri": "https://localhost:8080/"
        },
        "id": "ZkKriF8kdai2",
        "outputId": "c5b9e5f5-f228-4291-f948-0305e367120d"
      },
      "source": [
        "df.cp.value_counts()"
      ],
      "execution_count": null,
      "outputs": [
        {
          "output_type": "execute_result",
          "data": {
            "text/plain": [
              "0    143\n",
              "2     87\n",
              "1     50\n",
              "3     23\n",
              "Name: cp, dtype: int64"
            ]
          },
          "metadata": {
            "tags": []
          },
          "execution_count": 29
        }
      ]
    },
    {
      "cell_type": "code",
      "metadata": {
        "colab": {
          "base_uri": "https://localhost:8080/",
          "height": 206
        },
        "id": "GQlVSbmTdai5",
        "outputId": "e1600ff3-aa01-46f2-cb6e-4efcc0c12104"
      },
      "source": [
        "pd.crosstab(df.cp, df.target)"
      ],
      "execution_count": null,
      "outputs": [
        {
          "output_type": "execute_result",
          "data": {
            "text/html": [
              "<div>\n",
              "<style scoped>\n",
              "    .dataframe tbody tr th:only-of-type {\n",
              "        vertical-align: middle;\n",
              "    }\n",
              "\n",
              "    .dataframe tbody tr th {\n",
              "        vertical-align: top;\n",
              "    }\n",
              "\n",
              "    .dataframe thead th {\n",
              "        text-align: right;\n",
              "    }\n",
              "</style>\n",
              "<table border=\"1\" class=\"dataframe\">\n",
              "  <thead>\n",
              "    <tr style=\"text-align: right;\">\n",
              "      <th>target</th>\n",
              "      <th>0</th>\n",
              "      <th>1</th>\n",
              "    </tr>\n",
              "    <tr>\n",
              "      <th>cp</th>\n",
              "      <th></th>\n",
              "      <th></th>\n",
              "    </tr>\n",
              "  </thead>\n",
              "  <tbody>\n",
              "    <tr>\n",
              "      <th>0</th>\n",
              "      <td>104</td>\n",
              "      <td>39</td>\n",
              "    </tr>\n",
              "    <tr>\n",
              "      <th>1</th>\n",
              "      <td>9</td>\n",
              "      <td>41</td>\n",
              "    </tr>\n",
              "    <tr>\n",
              "      <th>2</th>\n",
              "      <td>18</td>\n",
              "      <td>69</td>\n",
              "    </tr>\n",
              "    <tr>\n",
              "      <th>3</th>\n",
              "      <td>7</td>\n",
              "      <td>16</td>\n",
              "    </tr>\n",
              "  </tbody>\n",
              "</table>\n",
              "</div>"
            ],
            "text/plain": [
              "target    0   1\n",
              "cp             \n",
              "0       104  39\n",
              "1         9  41\n",
              "2        18  69\n",
              "3         7  16"
            ]
          },
          "metadata": {
            "tags": []
          },
          "execution_count": 30
        }
      ]
    },
    {
      "cell_type": "markdown",
      "metadata": {
        "id": "csUUi3ubdzxr"
      },
      "source": [
        "So, as cp goes from 0 to 3, the chances of heart diseases increase. And the highest chance is for people with **Atypical angina** and **Non-anginal pain**."
      ]
    },
    {
      "cell_type": "code",
      "metadata": {
        "colab": {
          "base_uri": "https://localhost:8080/",
          "height": 321
        },
        "id": "YHpJHkb2dai7",
        "outputId": "a00e6b2d-bbf7-463f-c10f-dd4ac5eb98f3"
      },
      "source": [
        "pd.crosstab(df.cp, df.target).plot(kind='bar')\r\n",
        "plt.ylabel('Count of people');\r\n",
        "plt.legend(['No disease', 'Heart disease'])\r\n",
        "plt.xticks(ticks=[0,1,2,3],rotation=30,labels=['Typical angina', 'Atypical angina','Non-anginal pain','Asymptomatic']);"
      ],
      "execution_count": null,
      "outputs": [
        {
          "output_type": "display_data",
          "data": {
            "image/png": "[encoded data removed]",
            "text/plain": [
              "<Figure size 432x288 with 1 Axes>"
            ]
          },
          "metadata": {
            "tags": [],
            "needs_background": "light"
          }
        }
      ]
    },
    {
      "cell_type": "markdown",
      "metadata": {
        "id": "q_4UoyWdeY7G"
      },
      "source": [
        "### Comparing age and cp"
      ]
    },
    {
      "cell_type": "code",
      "metadata": {
        "colab": {
          "base_uri": "https://localhost:8080/"
        },
        "id": "5EeYQ3T7g_ZE",
        "outputId": "a45c8ee7-0343-4db8-fc17-98ce6e78b231"
      },
      "source": [
        "df.age.describe()"
      ],
      "execution_count": null,
      "outputs": [
        {
          "output_type": "execute_result",
          "data": {
            "text/plain": [
              "count    303.000000\n",
              "mean      54.366337\n",
              "std        9.082101\n",
              "min       29.000000\n",
              "25%       47.500000\n",
              "50%       55.000000\n",
              "75%       61.000000\n",
              "max       77.000000\n",
              "Name: age, dtype: float64"
            ]
          },
          "metadata": {
            "tags": []
          },
          "execution_count": 49
        }
      ]
    },
    {
      "cell_type": "code",
      "metadata": {
        "colab": {
          "base_uri": "https://localhost:8080/",
          "height": 265
        },
        "id": "yQ1ETIOxkza_",
        "outputId": "cf8ae069-63af-4d5b-e05f-e58c4dbe6f06"
      },
      "source": [
        "# AGE distribution among patients with heart disease\r\n",
        "df[df.target==1].age.hist(bins=7);"
      ],
      "execution_count": null,
      "outputs": [
        {
          "output_type": "display_data",
          "data": {
            "image/png": "[encoded data removed]",
            "text/plain": [
              "<Figure size 432x288 with 1 Axes>"
            ]
          },
          "metadata": {
            "tags": [],
            "needs_background": "light"
          }
        }
      ]
    },
    {
      "cell_type": "markdown",
      "metadata": {
        "id": "Feqnt5U6lU0h"
      },
      "source": [
        "So, people with age 40-65 are more prone to heart disease."
      ]
    },
    {
      "cell_type": "code",
      "metadata": {
        "colab": {
          "base_uri": "https://localhost:8080/",
          "height": 297
        },
        "id": "b1a3Froihfd4",
        "outputId": "d667a602-0d84-4e03-f0e9-204533fd7da6"
      },
      "source": [
        "# Comparing the AGE distribution for different chest pains.\r\n",
        "fig, ax= plt.subplots(2,2)\r\n",
        "ax[0,0].hist(df[(df.cp==0) & (df.target==1)].age, bins=5);\r\n",
        "ax[0,0].set_title('cp=0');\r\n",
        "ax[0,1].hist(df[(df.cp==1) & (df.target==1)].age, bins=5, color='red');\r\n",
        "ax[0,1].set_title('cp=1');\r\n",
        "ax[1,0].hist(df[(df.cp==2) & (df.target==1)].age, bins=5, color='orange');\r\n",
        "ax[1,0].set_title('cp=2');\r\n",
        "ax[1,1].hist(df[(df.cp==3) & (df.target==1)].age, bins=5, color='yellow');\r\n",
        "ax[1,1].set_title('cp=3');\r\n",
        "fig.tight_layout()"
      ],
      "execution_count": null,
      "outputs": [
        {
          "output_type": "display_data",
          "data": {
            "image/png": "[encoded data removed]",
            "text/plain": [
              "<Figure size 432x288 with 4 Axes>"
            ]
          },
          "metadata": {
            "tags": [],
            "needs_background": "light"
          }
        }
      ]
    },
    {
      "cell_type": "markdown",
      "metadata": {
        "id": "wyPvYxujiLsZ"
      },
      "source": [
        "Here people with age 40-65 are more likely to have chest pain with label 1,2,3 which has higher risk of heart disease.\r\n",
        "\r\n",
        "**Age 40 to 65 risky**."
      ]
    },
    {
      "cell_type": "markdown",
      "metadata": {
        "id": "tF-yiBfOl1i_"
      },
      "source": [
        "### Co-relation matrix"
      ]
    },
    {
      "cell_type": "code",
      "metadata": {
        "colab": {
          "base_uri": "https://localhost:8080/",
          "height": 487
        },
        "id": "bFpinczomYuK",
        "outputId": "ee438880-b41c-41c7-db03-95d8e198ad47"
      },
      "source": [
        "fig, ax= plt.subplots(figsize=(12,8))\r\n",
        "ax=sns.heatmap(df.corr());"
      ],
      "execution_count": null,
      "outputs": [
        {
          "output_type": "display_data",
          "data": {
            "image/png": "[encoded data removed]",
            "text/plain": [
              "<Figure size 864x576 with 2 Axes>"
            ]
          },
          "metadata": {
            "tags": [],
            "needs_background": "light"
          }
        }
      ]
    },
    {
      "cell_type": "markdown",
      "metadata": {
        "id": "wFWFzlV3mbx2"
      },
      "source": [
        "**Positive corr (target tends to 1->disease with inc. in these values)**\r\n",
        "- cp\r\n",
        "- thalach (max heart rate)\r\n",
        "- slope (more downslope of peak exercise ST segment increases risk)\r\n",
        "\r\n",
        "**Negative corr (risk reduces with inc. in values)**\r\n",
        "- exang (if angina/ chest pain is due to exercise then low risk)\r\n",
        "- oldpeak\r\n",
        "- ca (more colored vessels seen during fluoroscopy, low risk)"
      ]
    },
    {
      "cell_type": "code",
      "metadata": {
        "id": "Se9iZuJnOO2O"
      },
      "source": [
        ""
      ],
      "execution_count": null,
      "outputs": []
    },
    {
      "cell_type": "markdown",
      "metadata": {
        "id": "Kt-s7KIDpvtf"
      },
      "source": [
        "## Feature Engineering "
      ]
    },
    {
      "cell_type": "markdown",
      "metadata": {
        "id": "VT0az1cvWun5"
      },
      "source": [
        "### Outlier detection\r\n",
        "We will now try to find outliers in features with continuous values."
      ]
    },
    {
      "cell_type": "code",
      "metadata": {
        "colab": {
          "base_uri": "https://localhost:8080/",
          "height": 1000
        },
        "id": "7S_p5lg1W1tD",
        "outputId": "6fcc2bb6-5b8f-4e96-ed4d-346e5bc79daf"
      },
      "source": [
        "for x in ['age','trestbps','chol','thalach']:\r\n",
        "  print(x.upper())\r\n",
        "  sns.boxplot(data=df, y=x);\r\n",
        "  plt.show()"
      ],
      "execution_count": null,
      "outputs": [
        {
          "output_type": "stream",
          "text": [
            "AGE\n"
          ],
          "name": "stdout"
        },
        {
          "output_type": "display_data",
          "data": {
            "image/png": "[encoded data removed]",
            "text/plain": [
              "<Figure size 432x288 with 1 Axes>"
            ]
          },
          "metadata": {
            "tags": [],
            "needs_background": "light"
          }
        },
        {
          "output_type": "stream",
          "text": [
            "TRESTBPS\n"
          ],
          "name": "stdout"
        },
        {
          "output_type": "display_data",
          "data": {
            "image/png": "[encoded data removed]",
            "text/plain": [
              "<Figure size 432x288 with 1 Axes>"
            ]
          },
          "metadata": {
            "tags": [],
            "needs_background": "light"
          }
        },
        {
          "output_type": "stream",
          "text": [
            "CHOL\n"
          ],
          "name": "stdout"
        },
        {
          "output_type": "display_data",
          "data": {
            "image/png": "[encoded data removed]",
            "text/plain": [
              "<Figure size 432x288 with 1 Axes>"
            ]
          },
          "metadata": {
            "tags": [],
            "needs_background": "light"
          }
        },
        {
          "output_type": "stream",
          "text": [
            "THALACH\n"
          ],
          "name": "stdout"
        },
        {
          "output_type": "display_data",
          "data": {
            "image/png": "[encoded data removed]",
            "text/plain": [
              "<Figure size 432x288 with 1 Axes>"
            ]
          },
          "metadata": {
            "tags": [],
            "needs_background": "light"
          }
        }
      ]
    },
    {
      "cell_type": "markdown",
      "metadata": {
        "id": "LWZHRsbklHLD"
      },
      "source": [
        "We can see these features have outliers."
      ]
    },
    {
      "cell_type": "markdown",
      "metadata": {
        "id": "Ey5-Lc3tPxFg"
      },
      "source": [
        "### Checking distribution"
      ]
    },
    {
      "cell_type": "code",
      "metadata": {
        "colab": {
          "base_uri": "https://localhost:8080/"
        },
        "id": "vtIsg3jaP2HZ",
        "outputId": "151d584f-30d2-488e-f7b6-42c172cd841e"
      },
      "source": [
        "df.columns"
      ],
      "execution_count": null,
      "outputs": [
        {
          "output_type": "execute_result",
          "data": {
            "text/plain": [
              "Index(['age', 'sex', 'cp', 'trestbps', 'chol', 'fbs', 'restecg', 'thalach',\n",
              "       'exang', 'oldpeak', 'slope', 'ca', 'thal', 'target'],\n",
              "      dtype='object')"
            ]
          },
          "metadata": {
            "tags": []
          },
          "execution_count": 121
        }
      ]
    },
    {
      "cell_type": "code",
      "metadata": {
        "colab": {
          "base_uri": "https://localhost:8080/",
          "height": 1000
        },
        "id": "5tsLtY-fP9UC",
        "outputId": "4c8fc14b-a50f-4bce-f38a-41fecf5d8c41"
      },
      "source": [
        "for x in ['age','trestbps','chol','thalach']:\r\n",
        "  print(x.upper())\r\n",
        "  sns.histplot(df[x], kde=True);\r\n",
        "  plt.show()\r\n",
        "  print('skew:', df[x].skew())\r\n",
        "  print('--------------------------------------')"
      ],
      "execution_count": null,
      "outputs": [
        {
          "output_type": "stream",
          "text": [
            "AGE\n"
          ],
          "name": "stdout"
        },
        {
          "output_type": "display_data",
          "data": {
            "image/png": "[encoded data removed]",
            "text/plain": [
              "<Figure size 432x288 with 1 Axes>"
            ]
          },
          "metadata": {
            "tags": [],
            "needs_background": "light"
          }
        },
        {
          "output_type": "stream",
          "text": [
            "skew: -0.2024633654856539\n",
            "--------------------------------------\n",
            "TRESTBPS\n"
          ],
          "name": "stdout"
        },
        {
          "output_type": "display_data",
          "data": {
            "image/png": "[encoded data removed]",
            "text/plain": [
              "<Figure size 432x288 with 1 Axes>"
            ]
          },
          "metadata": {
            "tags": [],
            "needs_background": "light"
          }
        },
        {
          "output_type": "stream",
          "text": [
            "skew: 0.7137684379181465\n",
            "--------------------------------------\n",
            "CHOL\n"
          ],
          "name": "stdout"
        },
        {
          "output_type": "display_data",
          "data": {
            "image/png": "[encoded data removed]",
            "text/plain": [
              "<Figure size 432x288 with 1 Axes>"
            ]
          },
          "metadata": {
            "tags": [],
            "needs_background": "light"
          }
        },
        {
          "output_type": "stream",
          "text": [
            "skew: 1.1434008206693387\n",
            "--------------------------------------\n",
            "THALACH\n"
          ],
          "name": "stdout"
        },
        {
          "output_type": "display_data",
          "data": {
            "image/png": "[encoded data removed]",
            "text/plain": [
              "<Figure size 432x288 with 1 Axes>"
            ]
          },
          "metadata": {
            "tags": [],
            "needs_background": "light"
          }
        },
        {
          "output_type": "stream",
          "text": [
            "skew: -0.5374096526832253\n",
            "--------------------------------------\n"
          ],
          "name": "stdout"
        }
      ]
    },
    {
      "cell_type": "markdown",
      "metadata": {
        "id": "VIbF8YKvSzFU"
      },
      "source": [
        "As 'trestbps' and 'chol' feature have skewness more than 0.5 (+ or -), we need to transform these.\r\n",
        "\r\n",
        "And then we will scale down the features."
      ]
    },
    {
      "cell_type": "markdown",
      "metadata": {
        "id": "nR9UAORxcvn-"
      },
      "source": [
        "## Feature transformation / Normalization"
      ]
    },
    {
      "cell_type": "code",
      "metadata": {
        "colab": {
          "base_uri": "https://localhost:8080/",
          "height": 298
        },
        "id": "loeS47O_TJPe",
        "outputId": "11b34945-2332-44ca-9ea7-05409cc6f950"
      },
      "source": [
        "sns.histplot(np.log(df.trestbps), kde=True)"
      ],
      "execution_count": null,
      "outputs": [
        {
          "output_type": "execute_result",
          "data": {
            "text/plain": [
              "<matplotlib.axes._subplots.AxesSubplot at 0x7f5489cfa9e8>"
            ]
          },
          "metadata": {
            "tags": []
          },
          "execution_count": 136
        },
        {
          "output_type": "display_data",
          "data": {
            "image/png": "[encoded data removed]",
            "text/plain": [
              "<Figure size 432x288 with 1 Axes>"
            ]
          },
          "metadata": {
            "tags": [],
            "needs_background": "light"
          }
        }
      ]
    },
    {
      "cell_type": "code",
      "metadata": {
        "colab": {
          "base_uri": "https://localhost:8080/"
        },
        "id": "dyweJ_lkjLgh",
        "outputId": "80230e6c-e1c5-4316-ef87-23c8d0514ddc"
      },
      "source": [
        "np.log(df.trestbps).skew()"
      ],
      "execution_count": 6,
      "outputs": [
        {
          "output_type": "execute_result",
          "data": {
            "text/plain": [
              "0.2817574464672539"
            ]
          },
          "metadata": {
            "tags": []
          },
          "execution_count": 6
        }
      ]
    },
    {
      "cell_type": "code",
      "metadata": {
        "colab": {
          "base_uri": "https://localhost:8080/"
        },
        "id": "JUnQUS33mwnV",
        "outputId": "661f67be-ea06-4842-b912-196372324980"
      },
      "source": [
        "np.log(df.chol).skew()"
      ],
      "execution_count": 7,
      "outputs": [
        {
          "output_type": "execute_result",
          "data": {
            "text/plain": [
              "0.08666713455435988"
            ]
          },
          "metadata": {
            "tags": []
          },
          "execution_count": 7
        }
      ]
    },
    {
      "cell_type": "markdown",
      "metadata": {
        "id": "49aMHRg4m6wF"
      },
      "source": [
        "We can see that using log transform we are able to reduce the **skewness** (left or right shift of distribution) and normalize the distribution."
      ]
    },
    {
      "cell_type": "markdown",
      "metadata": {
        "id": "Hc7Jvj2Xc3Om"
      },
      "source": [
        "## Methods for feature engineering\r\n",
        "Here we will make a function to apply outlier treatment, normalization and scaling on both train set and test set.\r\n",
        "\r\n",
        "We will learn the features from the train set first into outlier_dict{} and scale_dict{} and use these over test set, rather than learning different features/characters of test set.\r\n",
        "\r\n",
        "We are going for **Outlier handling** before **Normalization** as Outlier handling helps in normalizing the data upto certain extent."
      ]
    },
    {
      "cell_type": "code",
      "metadata": {
        "id": "U6ohKaEua6XG"
      },
      "source": [
        "outlier_dict={}\r\n",
        "scale_dict={}\r\n",
        "def train_engg(X, feat=['age','trestbps','chol','thalach']):\r\n",
        "  for f in feat:\r\n",
        "    # print(f)\r\n",
        "    # outlier\r\n",
        "    first_quartile= np.percentile(X[f],25)\r\n",
        "    third_quartile= np.percentile(X[f],75)\r\n",
        "    iqr= third_quartile-first_quartile\r\n",
        "    lowest= first_quartile-(1.5*iqr)\r\n",
        "    highest= third_quartile+(1.5*iqr)\r\n",
        "    # print(lowest, highest)\r\n",
        "    outlier_dict[f]=[lowest,highest]\r\n",
        "    X[f]= np.where(X[f]>highest, highest, np.where(X[f]<lowest, lowest, X[f]))\r\n",
        "    \r\n",
        "    # transformation/normalization\r\n",
        "    X[f]=np.log(X[f])\r\n",
        "\r\n",
        "    # scaling\r\n",
        "    mean=X[f].mean()\r\n",
        "    std=X[f].std()\r\n",
        "    scale_dict[f]=[mean,std]\r\n",
        "    X[f]=(X[f]-mean)/std\r\n",
        "  return X\r\n"
      ],
      "execution_count": null,
      "outputs": []
    },
    {
      "cell_type": "code",
      "metadata": {
        "id": "lOa2yDeUlLTR"
      },
      "source": [
        "# Test set method for feature engg\r\n",
        "def test_engg(X, feat=['age','trestbps','chol','thalach']):\r\n",
        "  for f in feat:\r\n",
        "\r\n",
        "    # outlier\r\n",
        "    X[f]= np.where(X[f]>outlier_dict[f][1], outlier_dict[f][1],np.where(X[f]<outlier_dict[f][0], outlier_dict[f][0], X[f]))\r\n",
        "    \r\n",
        "    # transformation/normalization\r\n",
        "    X[f]=np.log(X[f])\r\n",
        "\r\n",
        "    # scaling\r\n",
        "    X[f]=(X[f]-scale_dict[f][0])/scale_dict[f][1]\r\n",
        "  return X\r\n",
        "\r\n",
        "# X_test=test_engg(X_test)"
      ],
      "execution_count": null,
      "outputs": []
    },
    {
      "cell_type": "markdown",
      "metadata": {
        "id": "HIcJa8eVuUTL"
      },
      "source": [
        "## Data prep for modelling"
      ]
    },
    {
      "cell_type": "code",
      "metadata": {
        "id": "Yzrs0XqUvgyC"
      },
      "source": [
        "X= df.drop(['target'], axis=1)\r\n",
        "\r\n",
        "y= df.target"
      ],
      "execution_count": null,
      "outputs": []
    },
    {
      "cell_type": "code",
      "metadata": {
        "id": "hILWOwBbvokT"
      },
      "source": [
        "# Splitting the data\r\n",
        "# Random seed for reproducibility\r\n",
        "np.random.seed(42)\r\n",
        "\r\n",
        "# Split into train & test set\r\n",
        "X_train, X_test, y_train, y_test = train_test_split(X,y,test_size = 0.2)"
      ],
      "execution_count": null,
      "outputs": []
    },
    {
      "cell_type": "code",
      "metadata": {
        "colab": {
          "base_uri": "https://localhost:8080/"
        },
        "id": "jWwwKcESvpuD",
        "outputId": "cd8712b7-4bcd-4a7e-bcf7-38b8c39fb8bb"
      },
      "source": [
        "len(X_test)"
      ],
      "execution_count": null,
      "outputs": [
        {
          "output_type": "execute_result",
          "data": {
            "text/plain": [
              "61"
            ]
          },
          "metadata": {
            "tags": []
          },
          "execution_count": 15
        }
      ]
    },
    {
      "cell_type": "code",
      "metadata": {
        "colab": {
          "base_uri": "https://localhost:8080/"
        },
        "id": "gVxd1E5RwDOZ",
        "outputId": "6c761b45-6dc9-4ed1-e70d-1b065405581e"
      },
      "source": [
        "len(X_train)"
      ],
      "execution_count": null,
      "outputs": [
        {
          "output_type": "execute_result",
          "data": {
            "text/plain": [
              "242"
            ]
          },
          "metadata": {
            "tags": []
          },
          "execution_count": 16
        }
      ]
    },
    {
      "cell_type": "markdown",
      "metadata": {
        "id": "fSaxYA0NwPW0"
      },
      "source": [
        "## Creating models"
      ]
    },
    {
      "cell_type": "code",
      "metadata": {
        "id": "hDjLZeuyyEjt"
      },
      "source": [
        "# Put models in a dictionary\r\n",
        "models = {\"KNN\": KNeighborsClassifier(),\r\n",
        "          \"Logistic Regression\": LogisticRegression(), \r\n",
        "          \"Random Forest\": RandomForestClassifier(),\r\n",
        "          \"Linear SVC\": LinearSVC()}"
      ],
      "execution_count": null,
      "outputs": []
    },
    {
      "cell_type": "code",
      "metadata": {
        "id": "EWZYgPjNyJHI"
      },
      "source": [
        "# Function to train the models and record the scores\r\n",
        "def fit_score(models, X_train, X_test, y_train, y_test):\r\n",
        "    \"\"\"\r\n",
        "    Fits and evaluates given machine learning models.\r\n",
        "    models : a dict of different Scikit-Learn machine learning models\r\n",
        "    X_train : training data\r\n",
        "    X_test : testing data\r\n",
        "    y_train : labels assosciated with training data\r\n",
        "    y_test : labels assosciated with test data\r\n",
        "    \"\"\"\r\n",
        "    # Random seed for reproducible results\r\n",
        "    np.random.seed(42)\r\n",
        "    # dict to store model scores\r\n",
        "    model_scores = {}\r\n",
        "    # Loop through models\r\n",
        "    for name, model in models.items():\r\n",
        "        # Fit/train the model\r\n",
        "        \r\n",
        "        X_train_new=train_engg(X_train.copy())\r\n",
        "\r\n",
        "        model.fit(X_train_new, y_train)\r\n",
        "        print(name, model.get_params())\r\n",
        "        \r\n",
        "        # Evaluate the model and append its score to model_scores\r\n",
        "\r\n",
        "        X_test_new=test_engg(X_test.copy())\r\n",
        "\r\n",
        "        model_scores[name] = model.score(X_test_new, y_test) # accuracy\r\n",
        "    return model_scores"
      ],
      "execution_count": null,
      "outputs": []
    },
    {
      "cell_type": "code",
      "metadata": {
        "colab": {
          "base_uri": "https://localhost:8080/"
        },
        "id": "D1b7PO6Xyio-",
        "outputId": "ef1b1eff-d112-48cb-8aef-401409273cb1"
      },
      "source": [
        "model_scores= fit_score(models, X_train, X_test, y_train, y_test)\r\n",
        "model_scores"
      ],
      "execution_count": null,
      "outputs": [
        {
          "output_type": "stream",
          "text": [
            "KNN {'algorithm': 'auto', 'leaf_size': 30, 'metric': 'minkowski', 'metric_params': None, 'n_jobs': None, 'n_neighbors': 5, 'p': 2, 'weights': 'uniform'}\n",
            "Logistic Regression {'C': 1.0, 'class_weight': None, 'dual': False, 'fit_intercept': True, 'intercept_scaling': 1, 'l1_ratio': None, 'max_iter': 100, 'multi_class': 'auto', 'n_jobs': None, 'penalty': 'l2', 'random_state': None, 'solver': 'lbfgs', 'tol': 0.0001, 'verbose': 0, 'warm_start': False}\n",
            "Random Forest {'bootstrap': True, 'ccp_alpha': 0.0, 'class_weight': None, 'criterion': 'gini', 'max_depth': None, 'max_features': 'auto', 'max_leaf_nodes': None, 'max_samples': None, 'min_impurity_decrease': 0.0, 'min_impurity_split': None, 'min_samples_leaf': 1, 'min_samples_split': 2, 'min_weight_fraction_leaf': 0.0, 'n_estimators': 100, 'n_jobs': None, 'oob_score': False, 'random_state': None, 'verbose': 0, 'warm_start': False}\n",
            "Linear SVC {'C': 1.0, 'class_weight': None, 'dual': True, 'fit_intercept': True, 'intercept_scaling': 1, 'loss': 'squared_hinge', 'max_iter': 1000, 'multi_class': 'ovr', 'penalty': 'l2', 'random_state': None, 'tol': 0.0001, 'verbose': 0}\n"
          ],
          "name": "stdout"
        },
        {
          "output_type": "execute_result",
          "data": {
            "text/plain": [
              "{'KNN': 0.8524590163934426,\n",
              " 'Linear SVC': 0.8360655737704918,\n",
              " 'Logistic Regression': 0.8524590163934426,\n",
              " 'Random Forest': 0.8360655737704918}"
            ]
          },
          "metadata": {
            "tags": []
          },
          "execution_count": 19
        }
      ]
    },
    {
      "cell_type": "markdown",
      "metadata": {
        "id": "KjfKjl1Xq9BB"
      },
      "source": [
        "Model Scores without feature engineering:\r\n",
        "\r\n",
        "{'KNN': 0.6885245901639344,\r\n",
        " \r\n",
        " 'Linear SVC': 0.47540983606557374,\r\n",
        "\r\n",
        " 'Logistic Regression': 0.8852459016393442,\r\n",
        "\r\n",
        " 'Random Forest': 0.8360655737704918}"
      ]
    },
    {
      "cell_type": "code",
      "metadata": {
        "colab": {
          "base_uri": "https://localhost:8080/",
          "height": 265
        },
        "id": "anAObsAhy_0f",
        "outputId": "41603729-f540-4835-edeb-84935932a98d"
      },
      "source": [
        "plt.bar(x=model_scores.keys(), height=model_scores.values());\r\n",
        "plt.ylabel('Accuracy'); "
      ],
      "execution_count": null,
      "outputs": [
        {
          "output_type": "display_data",
          "data": {
            "image/png": "[encoded data removed]",
            "text/plain": [
              "<Figure size 432x288 with 1 Axes>"
            ]
          },
          "metadata": {
            "tags": [],
            "needs_background": "light"
          }
        }
      ]
    },
    {
      "cell_type": "code",
      "metadata": {
        "id": "K3mVhVuk1Esd"
      },
      "source": [
        ""
      ],
      "execution_count": null,
      "outputs": []
    },
    {
      "cell_type": "markdown",
      "metadata": {
        "id": "oad7Q53d7uxT"
      },
      "source": [
        "## Hyper-parameter tuning with cross-validation"
      ]
    },
    {
      "cell_type": "markdown",
      "metadata": {
        "id": "ta8nhl3Z708P"
      },
      "source": [
        "### GridSearchCV tuning\r\n",
        "It will try every single hyperparameter combination to reach the best score possible.\r\n",
        "\r\n",
        "#### Logistic Regression"
      ]
    },
    {
      "cell_type": "code",
      "metadata": {
        "colab": {
          "base_uri": "https://localhost:8080/"
        },
        "id": "Ol90YbBq8jJe",
        "outputId": "c4247382-265f-4b00-8bf5-761391b569a0"
      },
      "source": [
        "np.logspace(-4,4,20)"
      ],
      "execution_count": null,
      "outputs": [
        {
          "output_type": "execute_result",
          "data": {
            "text/plain": [
              "array([1.00000000e-04, 2.63665090e-04, 6.95192796e-04, 1.83298071e-03,\n",
              "       4.83293024e-03, 1.27427499e-02, 3.35981829e-02, 8.85866790e-02,\n",
              "       2.33572147e-01, 6.15848211e-01, 1.62377674e+00, 4.28133240e+00,\n",
              "       1.12883789e+01, 2.97635144e+01, 7.84759970e+01, 2.06913808e+02,\n",
              "       5.45559478e+02, 1.43844989e+03, 3.79269019e+03, 1.00000000e+04])"
            ]
          },
          "metadata": {
            "tags": []
          },
          "execution_count": 108
        }
      ]
    },
    {
      "cell_type": "code",
      "metadata": {
        "id": "Gh031XZ48TmI",
        "colab": {
          "base_uri": "https://localhost:8080/"
        },
        "outputId": "fd1130b0-1e55-4629-bbfc-d91e09334c2b"
      },
      "source": [
        "# Logistic Regression\r\n",
        "lr_grid={\"C\": [1,2,3,4,5,6,7,8,9], \"solver\": ['lbfgs','liblinear'], 'penalty':['l2']}\r\n",
        "\r\n",
        "np.random.seed(42)\r\n",
        "lr_gs= GridSearchCV(LogisticRegression(), param_grid= lr_grid, cv=5, verbose=True, scoring='recall')\r\n",
        "\r\n",
        "X_train_new=train_engg(X_train.copy())\r\n",
        "lr_gs.fit(X_train_new, y_train);"
      ],
      "execution_count": null,
      "outputs": [
        {
          "output_type": "stream",
          "text": [
            "Fitting 5 folds for each of 18 candidates, totalling 90 fits\n"
          ],
          "name": "stdout"
        },
        {
          "output_type": "stream",
          "text": [
            "[Parallel(n_jobs=1)]: Using backend SequentialBackend with 1 concurrent workers.\n",
            "[Parallel(n_jobs=1)]: Done  90 out of  90 | elapsed:    0.7s finished\n"
          ],
          "name": "stderr"
        }
      ]
    },
    {
      "cell_type": "markdown",
      "metadata": {
        "id": "bHPh8mIjHEuN"
      },
      "source": [
        "400 iterations means: 20 C x 2 penalties x 2 solvers x 5 cv= 400\r\n",
        "\r\n",
        "Let's see the best parameters and score."
      ]
    },
    {
      "cell_type": "code",
      "metadata": {
        "colab": {
          "base_uri": "https://localhost:8080/"
        },
        "id": "4yKbJP0nGXrV",
        "outputId": "24d4cc60-3840-42f2-fb66-699ba25af609"
      },
      "source": [
        "lr_gs.best_params_"
      ],
      "execution_count": null,
      "outputs": [
        {
          "output_type": "execute_result",
          "data": {
            "text/plain": [
              "{'C': 1, 'penalty': 'l2', 'solver': 'liblinear'}"
            ]
          },
          "metadata": {
            "tags": []
          },
          "execution_count": 424
        }
      ]
    },
    {
      "cell_type": "code",
      "metadata": {
        "colab": {
          "base_uri": "https://localhost:8080/"
        },
        "id": "u7SMfBDVGkzB",
        "outputId": "e51ff7d6-e8d4-4063-e7c7-40e75f07ea0c"
      },
      "source": [
        "# model score\r\n",
        "X_test_new= test_engg(X_test.copy())\r\n",
        "lr_gs.score(X_test_new, y_test)"
      ],
      "execution_count": null,
      "outputs": [
        {
          "output_type": "execute_result",
          "data": {
            "text/plain": [
              "0.84375"
            ]
          },
          "metadata": {
            "tags": []
          },
          "execution_count": 425
        }
      ]
    },
    {
      "cell_type": "code",
      "metadata": {
        "colab": {
          "base_uri": "https://localhost:8080/"
        },
        "id": "c9MEWdHlHs0f",
        "outputId": "51de3af9-0017-4244-9923-ec742cff8cdb"
      },
      "source": [
        "# TRAINING SCORE\r\n",
        "lr_gs.score(X_train_new, y_train)"
      ],
      "execution_count": null,
      "outputs": [
        {
          "output_type": "execute_result",
          "data": {
            "text/plain": [
              "0.9022556390977443"
            ]
          },
          "metadata": {
            "tags": []
          },
          "execution_count": 426
        }
      ]
    },
    {
      "cell_type": "markdown",
      "metadata": {
        "id": "nfy89qlP4m0Q"
      },
      "source": [
        "### KNN"
      ]
    },
    {
      "cell_type": "code",
      "metadata": {
        "colab": {
          "base_uri": "https://localhost:8080/"
        },
        "id": "L7HnRLjnEEwF",
        "outputId": "81fb36c5-3258-44f8-de47-4716ae1f1028"
      },
      "source": [
        "import sklearn\r\n",
        "sklearn.metrics.SCORERS.keys()"
      ],
      "execution_count": null,
      "outputs": [
        {
          "output_type": "execute_result",
          "data": {
            "text/plain": [
              "dict_keys(['explained_variance', 'r2', 'max_error', 'neg_median_absolute_error', 'neg_mean_absolute_error', 'neg_mean_squared_error', 'neg_mean_squared_log_error', 'neg_root_mean_squared_error', 'neg_mean_poisson_deviance', 'neg_mean_gamma_deviance', 'accuracy', 'roc_auc', 'roc_auc_ovr', 'roc_auc_ovo', 'roc_auc_ovr_weighted', 'roc_auc_ovo_weighted', 'balanced_accuracy', 'average_precision', 'neg_log_loss', 'neg_brier_score', 'adjusted_rand_score', 'homogeneity_score', 'completeness_score', 'v_measure_score', 'mutual_info_score', 'adjusted_mutual_info_score', 'normalized_mutual_info_score', 'fowlkes_mallows_score', 'precision', 'precision_macro', 'precision_micro', 'precision_samples', 'precision_weighted', 'recall', 'recall_macro', 'recall_micro', 'recall_samples', 'recall_weighted', 'f1', 'f1_macro', 'f1_micro', 'f1_samples', 'f1_weighted', 'jaccard', 'jaccard_macro', 'jaccard_micro', 'jaccard_samples', 'jaccard_weighted'])"
            ]
          },
          "metadata": {
            "tags": []
          },
          "execution_count": 393
        }
      ]
    },
    {
      "cell_type": "code",
      "metadata": {
        "colab": {
          "base_uri": "https://localhost:8080/"
        },
        "id": "JMErK8mO4pIO",
        "outputId": "4eadb821-64c2-468f-84dc-58014406573e"
      },
      "source": [
        "# Logistic Regression\r\n",
        "knn_grid={'n_neighbors':[1,2,3,4,5,6,7,8,9,10,11,12,13,14,15]}\r\n",
        "\r\n",
        "np.random.seed(42)\r\n",
        "knn_gs= GridSearchCV(KNeighborsClassifier(), param_grid= knn_grid, cv=5, verbose=True, scoring='recall')\r\n",
        "\r\n",
        "X_train_new=train_engg(X_train.copy())\r\n",
        "knn_gs.fit(X_train_new, y_train);"
      ],
      "execution_count": null,
      "outputs": [
        {
          "output_type": "stream",
          "text": [
            "Fitting 5 folds for each of 15 candidates, totalling 75 fits\n"
          ],
          "name": "stdout"
        },
        {
          "output_type": "stream",
          "text": [
            "[Parallel(n_jobs=1)]: Using backend SequentialBackend with 1 concurrent workers.\n",
            "[Parallel(n_jobs=1)]: Done  75 out of  75 | elapsed:    0.5s finished\n"
          ],
          "name": "stderr"
        }
      ]
    },
    {
      "cell_type": "code",
      "metadata": {
        "colab": {
          "base_uri": "https://localhost:8080/"
        },
        "id": "DxdMg4xe4pIS",
        "outputId": "9d52fdb0-1e3c-4cb1-8edd-1d8729cfd495"
      },
      "source": [
        "knn_gs.best_params_"
      ],
      "execution_count": null,
      "outputs": [
        {
          "output_type": "execute_result",
          "data": {
            "text/plain": [
              "{'n_neighbors': 13}"
            ]
          },
          "metadata": {
            "tags": []
          },
          "execution_count": 420
        }
      ]
    },
    {
      "cell_type": "code",
      "metadata": {
        "colab": {
          "base_uri": "https://localhost:8080/"
        },
        "id": "fQkWoDuQ4pIT",
        "outputId": "99995f00-be48-435b-941c-3f26c8fe00ab"
      },
      "source": [
        "# model score\r\n",
        "X_test_new= test_engg(X_test.copy())\r\n",
        "knn_gs.score(X_test_new, y_test)"
      ],
      "execution_count": null,
      "outputs": [
        {
          "output_type": "execute_result",
          "data": {
            "text/plain": [
              "0.875"
            ]
          },
          "metadata": {
            "tags": []
          },
          "execution_count": 421
        }
      ]
    },
    {
      "cell_type": "code",
      "metadata": {
        "colab": {
          "base_uri": "https://localhost:8080/"
        },
        "id": "YaCQpC9AE4vc",
        "outputId": "64f56e61-8bbd-47f3-a20d-abccf231054d"
      },
      "source": [
        "# TRAINING SCORE\r\n",
        "knn_gs.score(X_train_new, y_train)"
      ],
      "execution_count": null,
      "outputs": [
        {
          "output_type": "execute_result",
          "data": {
            "text/plain": [
              "0.9323308270676691"
            ]
          },
          "metadata": {
            "tags": []
          },
          "execution_count": 422
        }
      ]
    },
    {
      "cell_type": "markdown",
      "metadata": {
        "id": "AVJO46so51fO"
      },
      "source": [
        "### Linear SVC"
      ]
    },
    {
      "cell_type": "code",
      "metadata": {
        "colab": {
          "base_uri": "https://localhost:8080/"
        },
        "id": "PjBgVnT154RO",
        "outputId": "55f10ca7-74cd-405f-a8e6-5d53d18105fb"
      },
      "source": [
        "# Logistic Regression\r\n",
        "svc_grid={'C':[0.01,0.05,0.1,0.5,1,2,3,4,5,6,7,8,9]}\r\n",
        "\r\n",
        "np.random.seed(42)\r\n",
        "svc_gs= GridSearchCV(LinearSVC(), param_grid= svc_grid, cv=5, verbose=True, scoring='recall')\r\n",
        "\r\n",
        "X_train_new=train_engg(X_train.copy())\r\n",
        "svc_gs.fit(X_train_new, y_train);"
      ],
      "execution_count": null,
      "outputs": [
        {
          "output_type": "stream",
          "text": [
            "Fitting 5 folds for each of 13 candidates, totalling 65 fits\n"
          ],
          "name": "stdout"
        },
        {
          "output_type": "stream",
          "text": [
            "[Parallel(n_jobs=1)]: Using backend SequentialBackend with 1 concurrent workers.\n",
            "[Parallel(n_jobs=1)]: Done  65 out of  65 | elapsed:    0.6s finished\n"
          ],
          "name": "stderr"
        }
      ]
    },
    {
      "cell_type": "code",
      "metadata": {
        "colab": {
          "base_uri": "https://localhost:8080/"
        },
        "id": "2cXlHUKJ54RQ",
        "outputId": "a7c7258a-01bb-4a34-ffeb-7db44d9e7288"
      },
      "source": [
        "svc_gs.best_params_"
      ],
      "execution_count": null,
      "outputs": [
        {
          "output_type": "execute_result",
          "data": {
            "text/plain": [
              "{'C': 0.1}"
            ]
          },
          "metadata": {
            "tags": []
          },
          "execution_count": 428
        }
      ]
    },
    {
      "cell_type": "code",
      "metadata": {
        "colab": {
          "base_uri": "https://localhost:8080/"
        },
        "id": "PKzexO0x54RS",
        "outputId": "92db68f8-0d16-4591-fda5-c06325c479fc"
      },
      "source": [
        "# model score\r\n",
        "X_test_new= test_engg(X_test.copy())\r\n",
        "svc_gs.score(X_test_new, y_test)"
      ],
      "execution_count": null,
      "outputs": [
        {
          "output_type": "execute_result",
          "data": {
            "text/plain": [
              "0.84375"
            ]
          },
          "metadata": {
            "tags": []
          },
          "execution_count": 429
        }
      ]
    },
    {
      "cell_type": "code",
      "metadata": {
        "colab": {
          "base_uri": "https://localhost:8080/"
        },
        "id": "UjPMUDbCH0PH",
        "outputId": "aa57d36f-a6e4-4f4e-bf3d-3ef6290c27bd"
      },
      "source": [
        "# TRAINING SCORE\r\n",
        "svc_gs.score(X_train_new, y_train)"
      ],
      "execution_count": null,
      "outputs": [
        {
          "output_type": "execute_result",
          "data": {
            "text/plain": [
              "0.9097744360902256"
            ]
          },
          "metadata": {
            "tags": []
          },
          "execution_count": 430
        }
      ]
    },
    {
      "cell_type": "markdown",
      "metadata": {
        "id": "vFacS7lhGylO"
      },
      "source": [
        "#### Random Forest"
      ]
    },
    {
      "cell_type": "code",
      "metadata": {
        "id": "OMkAawD9Hqdn"
      },
      "source": [
        "rf_grid = {\"n_estimators\": np.arange(10, 400, 50),\r\n",
        "           \"max_depth\": [None, 3, 5],\r\n",
        "           \"min_samples_split\": np.arange(2, 7, 2),\r\n",
        "           \"min_samples_leaf\": np.arange(15, 22, 2)}"
      ],
      "execution_count": null,
      "outputs": []
    },
    {
      "cell_type": "code",
      "metadata": {
        "colab": {
          "base_uri": "https://localhost:8080/"
        },
        "id": "6v81eKnrHspK",
        "outputId": "0e1c649f-1f41-475f-de69-6f50e0e9df90"
      },
      "source": [
        "np.random.seed(42)\r\n",
        "rf_gs= GridSearchCV(RandomForestClassifier(), param_grid= rf_grid, cv=5, verbose=True)\r\n",
        "\r\n",
        "X_train_new=train_engg(X_train.copy())\r\n",
        "rf_gs.fit(X_train_new, y_train);"
      ],
      "execution_count": null,
      "outputs": [
        {
          "output_type": "stream",
          "text": [
            "Fitting 5 folds for each of 288 candidates, totalling 1440 fits\n"
          ],
          "name": "stdout"
        },
        {
          "output_type": "stream",
          "text": [
            "[Parallel(n_jobs=1)]: Using backend SequentialBackend with 1 concurrent workers.\n",
            "[Parallel(n_jobs=1)]: Done 1440 out of 1440 | elapsed:  6.5min finished\n"
          ],
          "name": "stderr"
        }
      ]
    },
    {
      "cell_type": "code",
      "metadata": {
        "colab": {
          "base_uri": "https://localhost:8080/"
        },
        "id": "DQFnjlHuIDKE",
        "outputId": "2edf1b0e-b1a7-44ed-8b72-2c018f0880ea"
      },
      "source": [
        "rf_gs.best_params_"
      ],
      "execution_count": null,
      "outputs": [
        {
          "output_type": "execute_result",
          "data": {
            "text/plain": [
              "{'max_depth': 5,\n",
              " 'min_samples_leaf': 19,\n",
              " 'min_samples_split': 6,\n",
              " 'n_estimators': 10}"
            ]
          },
          "metadata": {
            "tags": []
          },
          "execution_count": 366
        }
      ]
    },
    {
      "cell_type": "code",
      "metadata": {
        "colab": {
          "base_uri": "https://localhost:8080/"
        },
        "id": "olzmjn1pNR-N",
        "outputId": "c1650f72-1f91-405b-850f-34a077ca1406"
      },
      "source": [
        "rf_gs.score(X_test, y_test)"
      ],
      "execution_count": null,
      "outputs": [
        {
          "output_type": "execute_result",
          "data": {
            "text/plain": [
              "0.8524590163934426"
            ]
          },
          "metadata": {
            "tags": []
          },
          "execution_count": 367
        }
      ]
    },
    {
      "cell_type": "code",
      "metadata": {
        "colab": {
          "base_uri": "https://localhost:8080/"
        },
        "id": "aQgG1gvDH5Hr",
        "outputId": "c951aef1-2710-44c3-b095-d302807e4a25"
      },
      "source": [
        "# TRAINING SCORE\r\n",
        "rf_gs.score(X_train_new, y_train)"
      ],
      "execution_count": null,
      "outputs": [
        {
          "output_type": "execute_result",
          "data": {
            "text/plain": [
              "0.8305785123966942"
            ]
          },
          "metadata": {
            "tags": []
          },
          "execution_count": 418
        }
      ]
    },
    {
      "cell_type": "markdown",
      "metadata": {
        "id": "r3YXpTCGH87K"
      },
      "source": [
        "So, none of our models are over-fitting as they have both training and test score same."
      ]
    },
    {
      "cell_type": "markdown",
      "metadata": {
        "id": "B2jE_1saNY0q"
      },
      "source": [
        "## Evaluating model\r\n",
        "### KNN"
      ]
    },
    {
      "cell_type": "code",
      "metadata": {
        "id": "xyH3Fs9pAZpS"
      },
      "source": [
        "X_test_new= test_engg(X_test.copy())\r\n",
        "y_pred= knn_gs.predict(X_test_new)"
      ],
      "execution_count": null,
      "outputs": []
    },
    {
      "cell_type": "code",
      "metadata": {
        "colab": {
          "base_uri": "https://localhost:8080/"
        },
        "id": "DEO4j8xfA6Pp",
        "outputId": "997fb54c-84fd-4536-a636-264ba61c6f84"
      },
      "source": [
        "y_test.values"
      ],
      "execution_count": null,
      "outputs": [
        {
          "output_type": "execute_result",
          "data": {
            "text/plain": [
              "array([0, 0, 1, 0, 1, 1, 1, 0, 0, 1, 1, 1, 1, 0, 1, 1, 1, 0, 0, 0, 1, 0,\n",
              "       0, 1, 1, 0, 0, 1, 0, 1, 1, 0, 0, 1, 1, 0, 1, 1, 1, 1, 1, 1, 1, 1,\n",
              "       1, 0, 0, 1, 0, 0, 0, 0, 1, 1, 0, 0, 0, 1, 0, 0, 0])"
            ]
          },
          "metadata": {
            "tags": []
          },
          "execution_count": 435
        }
      ]
    },
    {
      "cell_type": "code",
      "metadata": {
        "colab": {
          "base_uri": "https://localhost:8080/",
          "height": 424
        },
        "id": "NWu88KrMAqoH",
        "outputId": "041464c7-e6cb-40c6-8d5c-4d6606fd5ea0"
      },
      "source": [
        "pd.DataFrame({'Actual':y_test.values, 'Predicted':y_pred})"
      ],
      "execution_count": null,
      "outputs": [
        {
          "output_type": "execute_result",
          "data": {
            "text/html": [
              "<div>\n",
              "<style scoped>\n",
              "    .dataframe tbody tr th:only-of-type {\n",
              "        vertical-align: middle;\n",
              "    }\n",
              "\n",
              "    .dataframe tbody tr th {\n",
              "        vertical-align: top;\n",
              "    }\n",
              "\n",
              "    .dataframe thead th {\n",
              "        text-align: right;\n",
              "    }\n",
              "</style>\n",
              "<table border=\"1\" class=\"dataframe\">\n",
              "  <thead>\n",
              "    <tr style=\"text-align: right;\">\n",
              "      <th></th>\n",
              "      <th>Actual</th>\n",
              "      <th>Predicted</th>\n",
              "    </tr>\n",
              "  </thead>\n",
              "  <tbody>\n",
              "    <tr>\n",
              "      <th>0</th>\n",
              "      <td>0</td>\n",
              "      <td>0</td>\n",
              "    </tr>\n",
              "    <tr>\n",
              "      <th>1</th>\n",
              "      <td>0</td>\n",
              "      <td>1</td>\n",
              "    </tr>\n",
              "    <tr>\n",
              "      <th>2</th>\n",
              "      <td>1</td>\n",
              "      <td>1</td>\n",
              "    </tr>\n",
              "    <tr>\n",
              "      <th>3</th>\n",
              "      <td>0</td>\n",
              "      <td>0</td>\n",
              "    </tr>\n",
              "    <tr>\n",
              "      <th>4</th>\n",
              "      <td>1</td>\n",
              "      <td>1</td>\n",
              "    </tr>\n",
              "    <tr>\n",
              "      <th>...</th>\n",
              "      <td>...</td>\n",
              "      <td>...</td>\n",
              "    </tr>\n",
              "    <tr>\n",
              "      <th>56</th>\n",
              "      <td>0</td>\n",
              "      <td>0</td>\n",
              "    </tr>\n",
              "    <tr>\n",
              "      <th>57</th>\n",
              "      <td>1</td>\n",
              "      <td>1</td>\n",
              "    </tr>\n",
              "    <tr>\n",
              "      <th>58</th>\n",
              "      <td>0</td>\n",
              "      <td>0</td>\n",
              "    </tr>\n",
              "    <tr>\n",
              "      <th>59</th>\n",
              "      <td>0</td>\n",
              "      <td>0</td>\n",
              "    </tr>\n",
              "    <tr>\n",
              "      <th>60</th>\n",
              "      <td>0</td>\n",
              "      <td>0</td>\n",
              "    </tr>\n",
              "  </tbody>\n",
              "</table>\n",
              "<p>61 rows × 2 columns</p>\n",
              "</div>"
            ],
            "text/plain": [
              "    Actual  Predicted\n",
              "0        0          0\n",
              "1        0          1\n",
              "2        1          1\n",
              "3        0          0\n",
              "4        1          1\n",
              "..     ...        ...\n",
              "56       0          0\n",
              "57       1          1\n",
              "58       0          0\n",
              "59       0          0\n",
              "60       0          0\n",
              "\n",
              "[61 rows x 2 columns]"
            ]
          },
          "metadata": {
            "tags": []
          },
          "execution_count": 436
        }
      ]
    },
    {
      "cell_type": "markdown",
      "metadata": {
        "id": "Xb4FNK1ALVrq"
      },
      "source": [
        "### Confusion matrix"
      ]
    },
    {
      "cell_type": "code",
      "metadata": {
        "colab": {
          "base_uri": "https://localhost:8080/",
          "height": 279
        },
        "id": "zsyVOCRQAvDF",
        "outputId": "9927775c-47c3-4520-cb18-22f4ed9ce727"
      },
      "source": [
        "sns.heatmap(confusion_matrix(y_test, y_pred), annot=True)\r\n",
        "plt.xlabel('Actual')\r\n",
        "plt.ylabel('Pred');"
      ],
      "execution_count": null,
      "outputs": [
        {
          "output_type": "display_data",
          "data": {
            "image/png": "[encoded data removed]",
            "text/plain": [
              "<Figure size 432x288 with 2 Axes>"
            ]
          },
          "metadata": {
            "tags": [],
            "needs_background": "light"
          }
        }
      ]
    },
    {
      "cell_type": "markdown",
      "metadata": {
        "id": "ui_kSgh5LbJS"
      },
      "source": [
        "Here we can see 4 people each are **False positive** (Predicted as heart patients but actually not) and **False negative** (Predicted as not heart patients but actually are)."
      ]
    },
    {
      "cell_type": "markdown",
      "metadata": {
        "id": "a01UNalzSS--"
      },
      "source": [
        "## ROC curve and AUC score\r\n",
        "The large the area under curve (AUC), the better the model."
      ]
    },
    {
      "cell_type": "code",
      "metadata": {
        "colab": {
          "base_uri": "https://localhost:8080/",
          "height": 279
        },
        "id": "MBdioSWjEjfB",
        "outputId": "ef62c18c-5d67-4dda-d7cb-ff4b923912f3"
      },
      "source": [
        "# Import ROC curve function from metrics module\r\n",
        "from sklearn.metrics import plot_roc_curve\r\n",
        "\r\n",
        "# Plot ROC curve and calculate AUC metric\r\n",
        "plot_roc_curve(knn_gs, X_test_new, y_test);"
      ],
      "execution_count": null,
      "outputs": [
        {
          "output_type": "display_data",
          "data": {
            "image/png": "[encoded data removed]",
            "text/plain": [
              "<Figure size 432x288 with 1 Axes>"
            ]
          },
          "metadata": {
            "tags": [],
            "needs_background": "light"
          }
        }
      ]
    },
    {
      "cell_type": "markdown",
      "metadata": {
        "id": "rZEELggrSj-o"
      },
      "source": [
        "## Classification report"
      ]
    },
    {
      "cell_type": "code",
      "metadata": {
        "colab": {
          "base_uri": "https://localhost:8080/"
        },
        "id": "As1zYl1iSqtA",
        "outputId": "c6adaf95-8c9a-4b43-ab8d-731780cdf200"
      },
      "source": [
        "print(classification_report(y_test, y_pred))"
      ],
      "execution_count": null,
      "outputs": [
        {
          "output_type": "stream",
          "text": [
            "              precision    recall  f1-score   support\n",
            "\n",
            "           0       0.86      0.86      0.86        29\n",
            "           1       0.88      0.88      0.88        32\n",
            "\n",
            "    accuracy                           0.87        61\n",
            "   macro avg       0.87      0.87      0.87        61\n",
            "weighted avg       0.87      0.87      0.87        61\n",
            "\n"
          ],
          "name": "stdout"
        }
      ]
    },
    {
      "cell_type": "markdown",
      "metadata": {
        "id": "qKG3Xyi_TWHX"
      },
      "source": [
        "## Cross validation scores for different metrics"
      ]
    },
    {
      "cell_type": "code",
      "metadata": {
        "colab": {
          "base_uri": "https://localhost:8080/"
        },
        "id": "hdgkQahfTtvv",
        "outputId": "44277f9b-a95b-44b8-9afe-ed63155f893b"
      },
      "source": [
        "knn_gs.best_params_"
      ],
      "execution_count": null,
      "outputs": [
        {
          "output_type": "execute_result",
          "data": {
            "text/plain": [
              "{'n_neighbors': 13}"
            ]
          },
          "metadata": {
            "tags": []
          },
          "execution_count": 445
        }
      ]
    },
    {
      "cell_type": "code",
      "metadata": {
        "id": "2mX5NDQhTw-i"
      },
      "source": [
        "clf= KNeighborsClassifier(n_neighbors=13)"
      ],
      "execution_count": null,
      "outputs": []
    },
    {
      "cell_type": "code",
      "metadata": {
        "colab": {
          "base_uri": "https://localhost:8080/"
        },
        "id": "vgyMRc07UBFq",
        "outputId": "078864e1-afcc-4d40-f79b-08bef4e7e370"
      },
      "source": [
        "X_new= test_engg(X.copy())\r\n",
        "cv_acc = np.mean(cross_val_score(clf,\r\n",
        "                         X_new,\r\n",
        "                         y,\r\n",
        "                         cv=5, # 5-fold cross-validation\r\n",
        "                         scoring=\"accuracy\")) # accuracy as scoring\r\n",
        "cv_acc"
      ],
      "execution_count": null,
      "outputs": [
        {
          "output_type": "execute_result",
          "data": {
            "text/plain": [
              "0.8017486338797815"
            ]
          },
          "metadata": {
            "tags": []
          },
          "execution_count": 448
        }
      ]
    },
    {
      "cell_type": "code",
      "metadata": {
        "colab": {
          "base_uri": "https://localhost:8080/"
        },
        "id": "m576GXPUUMOQ",
        "outputId": "c01fa9b0-5f9f-4b90-c488-29f78773824f"
      },
      "source": [
        "# Cross-validated recall score\r\n",
        "cv_recall = np.mean(cross_val_score(clf,\r\n",
        "                                    X_new,\r\n",
        "                                    y,\r\n",
        "                                    cv=5, # 5-fold cross-validation\r\n",
        "                                    scoring=\"recall\")) # recall as scoring\r\n",
        "cv_recall"
      ],
      "execution_count": null,
      "outputs": [
        {
          "output_type": "execute_result",
          "data": {
            "text/plain": [
              "0.9090909090909092"
            ]
          },
          "metadata": {
            "tags": []
          },
          "execution_count": 449
        }
      ]
    },
    {
      "cell_type": "code",
      "metadata": {
        "colab": {
          "base_uri": "https://localhost:8080/"
        },
        "id": "Apo5rHHpVJy2",
        "outputId": "a53e06cb-315f-4cb8-fa2e-96d4d6bc1d26"
      },
      "source": [
        "# Cross-validated precision score\r\n",
        "cv_precision = np.mean(cross_val_score(clf,\r\n",
        "                                       X_new,\r\n",
        "                                       y,\r\n",
        "                                       cv=5, # 5-fold cross-validation\r\n",
        "                                       scoring=\"precision\")) # precision as scoring\r\n",
        "cv_precision"
      ],
      "execution_count": null,
      "outputs": [
        {
          "output_type": "execute_result",
          "data": {
            "text/plain": [
              "0.7701668806161747"
            ]
          },
          "metadata": {
            "tags": []
          },
          "execution_count": 450
        }
      ]
    },
    {
      "cell_type": "code",
      "metadata": {
        "colab": {
          "base_uri": "https://localhost:8080/"
        },
        "id": "yH3HrWLKVStB",
        "outputId": "5c612343-d885-4160-e413-0357df4ffc4c"
      },
      "source": [
        "# Cross-validated F1 score\r\n",
        "cv_f1 = np.mean(cross_val_score(clf,\r\n",
        "                                X_new,\r\n",
        "                                y,\r\n",
        "                                cv=5, # 5-fold cross-validation\r\n",
        "                                scoring=\"f1\")) # f1 as scoring\r\n",
        "cv_f1"
      ],
      "execution_count": null,
      "outputs": [
        {
          "output_type": "execute_result",
          "data": {
            "text/plain": [
              "0.8336682814398422"
            ]
          },
          "metadata": {
            "tags": []
          },
          "execution_count": 451
        }
      ]
    },
    {
      "cell_type": "code",
      "metadata": {
        "id": "kUGXJRJOVzzI"
      },
      "source": [
        ""
      ],
      "execution_count": null,
      "outputs": []
    },
    {
      "cell_type": "markdown",
      "metadata": {
        "id": "OcnbDCklVkco"
      },
      "source": [
        "## Feature importance\r\n",
        "Lets have a look at the model coeffients to mark the importance the models have given to different features.\r\n",
        "\r\n",
        "As we do not get model coefficients for KNN, we will go for Logistic Regression and Linear SVC."
      ]
    },
    {
      "cell_type": "code",
      "metadata": {
        "colab": {
          "base_uri": "https://localhost:8080/"
        },
        "id": "rI9m3oMpV6Bi",
        "outputId": "5ee37e29-853c-4b56-f6fb-6cc826f95155"
      },
      "source": [
        "X_train_new= train_engg(X_train.copy())"
      ],
      "execution_count": null,
      "outputs": [
        {
          "output_type": "execute_result",
          "data": {
            "text/plain": [
              "array([[-0.09463796, -1.36324398,  0.82447898, -0.22097855, -0.22551339,\n",
              "         0.29049471,  0.5013658 ,  0.37351873, -0.89903709, -0.53263678,\n",
              "         0.89041674, -0.78022351, -0.62486764]])"
            ]
          },
          "metadata": {
            "tags": []
          },
          "execution_count": 22
        }
      ]
    },
    {
      "cell_type": "code",
      "metadata": {
        "id": "C5T1kmpOZ2cx"
      },
      "source": [
        "def show_feat_imp(clf2):\r\n",
        "  clf2.fit(X_train_new, y_train)\r\n",
        "  features_dict = dict(zip(df.columns, list(clf2.coef_[0])))\r\n",
        "  # Visualize feature importance\r\n",
        "  features_df = pd.DataFrame(features_dict, index=[0])\r\n",
        "  features_df.T.plot.bar(title=\"Feature Importance\", legend=False); "
      ],
      "execution_count": null,
      "outputs": []
    },
    {
      "cell_type": "code",
      "metadata": {
        "colab": {
          "base_uri": "https://localhost:8080/",
          "height": 312
        },
        "id": "tJwxnvtgWOnR",
        "outputId": "56df6674-3db6-434e-c9f9-589e24165611"
      },
      "source": [
        "# Logistic Regression\r\n",
        "show_feat_imp(LogisticRegression(C=1, penalty='l2', solver='liblinear'))"
      ],
      "execution_count": null,
      "outputs": [
        {
          "output_type": "display_data",
          "data": {
            "image/png": "[encoded data removed]",
            "text/plain": [
              "<Figure size 432x288 with 1 Axes>"
            ]
          },
          "metadata": {
            "tags": [],
            "needs_background": "light"
          }
        }
      ]
    },
    {
      "cell_type": "code",
      "metadata": {
        "colab": {
          "base_uri": "https://localhost:8080/",
          "height": 312
        },
        "id": "KizPyF_gWSZP",
        "outputId": "4c8f679d-73d0-4c9d-e12d-8ce1e043f0c9"
      },
      "source": [
        "# Linear SVC\r\n",
        "show_feat_imp(LinearSVC(C=0.1))"
      ],
      "execution_count": null,
      "outputs": [
        {
          "output_type": "display_data",
          "data": {
            "image/png": "[encoded data removed]",
            "text/plain": [
              "<Figure size 432x288 with 1 Axes>"
            ]
          },
          "metadata": {
            "tags": [],
            "needs_background": "light"
          }
        }
      ]
    },
    {
      "cell_type": "markdown",
      "metadata": {
        "id": "Nl_hv9A6sxua"
      },
      "source": [
        "Here we can see Features like SEX, CP, EXANG, SLOPE, CA, THAL are given more importance by both the models. And their coefficients (+ve or -ve) match their corelation on the below heatmap."
      ]
    },
    {
      "cell_type": "code",
      "metadata": {
        "colab": {
          "base_uri": "https://localhost:8080/",
          "height": 319
        },
        "id": "BQp5SpQbWqsW",
        "outputId": "dfcf65ca-1717-47c0-9b8c-d14c21d3f931"
      },
      "source": [
        "sns.heatmap(df.corr())"
      ],
      "execution_count": null,
      "outputs": [
        {
          "output_type": "execute_result",
          "data": {
            "text/plain": [
              "<matplotlib.axes._subplots.AxesSubplot at 0x7f25325f4b70>"
            ]
          },
          "metadata": {
            "tags": []
          },
          "execution_count": 29
        },
        {
          "output_type": "display_data",
          "data": {
            "image/png": "[encoded data removed]",
            "text/plain": [
              "<Figure size 432x288 with 2 Axes>"
            ]
          },
          "metadata": {
            "tags": [],
            "needs_background": "light"
          }
        }
      ]
    },
    {
      "cell_type": "code",
      "metadata": {
        "id": "iryUNgxocBmi"
      },
      "source": [
        ""
      ],
      "execution_count": null,
      "outputs": []
    }
  ]
}